{
 "cells": [
  {
   "cell_type": "code",
   "execution_count": 3,
   "id": "bd525a30",
   "metadata": {},
   "outputs": [
    {
     "name": "stdout",
     "output_type": "stream",
     "text": [
      "Path found: ['A', 'E', 'D', 'G']\n"
     ]
    },
    {
     "data": {
      "text/plain": [
       "['A', 'E', 'D', 'G']"
      ]
     },
     "execution_count": 3,
     "metadata": {},
     "output_type": "execute_result"
    }
   ],
   "source": [
    "def aStarAlgo(start_node, stop_node):\n",
    "    # Initialize open_set with start_node, closed_set as an empty set,\n",
    "    # g with start_node and its distance as 0, and parents with start_node as its own parent.\n",
    "    open_set = {start_node}\n",
    "    closed_set = set()\n",
    "    g = {start_node: 0}\n",
    "    parents = {start_node: start_node}\n",
    "\n",
    "    # Main loop to explore nodes until open_set is not empty.\n",
    "    while open_set:\n",
    "        # Find the node with the minimum f() value.\n",
    "        n = min(open_set, key=lambda node: g[node] + heuristic(node))  \n",
    "\n",
    "        # Check if the current node is the stop_node or if it has no neighbors.\n",
    "        if n == stop_node or not Graph_nodes[n]:\n",
    "            break\n",
    "\n",
    "        # Remove the current node from open_set.\n",
    "        open_set.remove(n)\n",
    "\n",
    "        # Explore neighbors of the current node.\n",
    "        for m, weight in get_neighbors(n) or []:\n",
    "            # If the neighbor is not in open_set or closed_set, add it to open_set.\n",
    "            if m not in open_set and m not in closed_set:\n",
    "                open_set.add(m)\n",
    "                parents[m], g[m] = n, g[n] + weight\n",
    "            # If the neighbor is in open_set or closed_set, update its distance if needed.\n",
    "            elif g[m] > g[n] + weight:\n",
    "                parents[m], g[m] = n, g[n] + weight\n",
    "                # If the neighbor was in closed_set, move it back to open_set.\n",
    "                if m in closed_set:\n",
    "                    closed_set.remove(m)\n",
    "                    open_set.add(m)\n",
    "\n",
    "        # Add the current node to closed_set.\n",
    "        closed_set.add(n)\n",
    "\n",
    "    # If n is None, no path was found.\n",
    "    if n is None:\n",
    "        print('Path does not exist!')\n",
    "        return None\n",
    "\n",
    "    # Reconstruct the path from stop_node to start_node.\n",
    "    path = [n]\n",
    "    while parents[n] != n:\n",
    "        path.append(parents[n])\n",
    "        n = parents[n]\n",
    "\n",
    "    path.reverse()\n",
    "    print('Path found:', path)\n",
    "    return path\n",
    "\n",
    "# Function to get neighbors of a node.\n",
    "def get_neighbors(v):\n",
    "    return Graph_nodes[v] \n",
    "\n",
    "# Heuristic function to estimate the remaining cost from a node to the goal.\n",
    "def heuristic(n):\n",
    "    H_dist = {'A': 11, 'B': 6, 'C': 99, 'D': 1, 'E': 7, 'G': 0}\n",
    "    return H_dist[n]\n",
    "\n",
    "# Define the graph with nodes and their neighbors.\n",
    "Graph_nodes = {\n",
    "    'A': [('B', 2), ('E', 3)],\n",
    "    'B': [('A', 2), ('C', 1), ('G', 9)],\n",
    "    'C': [('B', 1)],\n",
    "    'D': [('E', 6), ('G', 1)],\n",
    "    'E': [('A', 3), ('D', 6)],\n",
    "    'G': [('B', 9), ('D', 1 )]\n",
    "}\n",
    "\n",
    "# Example usage of the algorithm with start and stop nodes.\n",
    "aStarAlgo('A', 'G')\n"
   ]
  },
  {
   "cell_type": "code",
   "execution_count": null,
   "id": "52382a80",
   "metadata": {},
   "outputs": [],
   "source": []
  },
  {
   "cell_type": "code",
   "execution_count": null,
   "id": "9a39583b",
   "metadata": {},
   "outputs": [],
   "source": []
  }
 ],
 "metadata": {
  "kernelspec": {
   "display_name": "Python 3 (ipykernel)",
   "language": "python",
   "name": "python3"
  },
  "language_info": {
   "codemirror_mode": {
    "name": "ipython",
    "version": 3
   },
   "file_extension": ".py",
   "mimetype": "text/x-python",
   "name": "python",
   "nbconvert_exporter": "python",
   "pygments_lexer": "ipython3",
   "version": "3.11.5"
  }
 },
 "nbformat": 4,
 "nbformat_minor": 5
}
