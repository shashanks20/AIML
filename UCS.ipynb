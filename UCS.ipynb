{
 "cells": [
  {
   "cell_type": "code",
   "execution_count": 2,
   "id": "239d41ca",
   "metadata": {},
   "outputs": [
    {
     "name": "stdout",
     "output_type": "stream",
     "text": [
      "Path: ['A', 'B', 'D', 'G']\n",
      "Total cost: 4\n"
     ]
    }
   ],
   "source": [
    "import heapq\n",
    "\n",
    "def uniform_cost_search(graph, start, goal):\n",
    "    frontier = []\n",
    "    heapq.heappush(frontier, (0, start, [start]))  # Include start node in initial path\n",
    "\n",
    "    explored = set()\n",
    "\n",
    "    while frontier:\n",
    "        path_cost, node, current_path = heapq.heappop(frontier)\n",
    "\n",
    "        if node == goal:\n",
    "            return path_cost, current_path\n",
    "\n",
    "        explored.add(node)\n",
    "\n",
    "        for neighbor, cost in graph[node].items():\n",
    "            if neighbor not in explored:\n",
    "                neighbor_cost = path_cost + cost\n",
    "                neighbor_path = current_path + [neighbor]  # Append to existing path\n",
    "                heapq.heappush(frontier, (neighbor_cost, neighbor, neighbor_path))\n",
    "\n",
    "    return None, []  # Goal not found\n",
    "\n",
    "# Example usage:\n",
    "graph = {\n",
    "    'A': {'B': 1, 'C': 3},\n",
    "    'B': {'D': 2, 'E': 3},\n",
    "    'C': {'D': 1, 'F': 5},\n",
    "    'D': {'G': 1},\n",
    "    'E': {'G': 2},\n",
    "    'F': {},\n",
    "    'G': {}\n",
    "}\n",
    "\n",
    "start = 'A'\n",
    "goal = 'G'\n",
    "\n",
    "total_cost, path = uniform_cost_search(graph, start, goal)\n",
    "\n",
    "if path:\n",
    "    print(\"Path:\", path)\n",
    "    print(\"Total cost:\", total_cost)\n",
    "else:\n",
    "    print(\"Goal not found\")\n"
   ]
  },
  {
   "cell_type": "code",
   "execution_count": null,
   "id": "35d1a0ab",
   "metadata": {},
   "outputs": [],
   "source": []
  }
 ],
 "metadata": {
  "kernelspec": {
   "display_name": "Python 3 (ipykernel)",
   "language": "python",
   "name": "python3"
  },
  "language_info": {
   "codemirror_mode": {
    "name": "ipython",
    "version": 3
   },
   "file_extension": ".py",
   "mimetype": "text/x-python",
   "name": "python",
   "nbconvert_exporter": "python",
   "pygments_lexer": "ipython3",
   "version": "3.11.5"
  }
 },
 "nbformat": 4,
 "nbformat_minor": 5
}
